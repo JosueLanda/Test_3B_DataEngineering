{
 "cells": [
  {
   "cell_type": "code",
   "execution_count": 1,
   "id": "2c718391-6e95-4180-b94f-8be06dc26f2a",
   "metadata": {},
   "outputs": [],
   "source": [
    "import warnings\n",
    "from pyspark.sql import DataFrame\n",
    "from datetime import date\n",
    "from delta import DeltaTable\n",
    "import pyspark.sql.types as T\n",
    "import pyspark.sql.functions as F\n",
    "from pyspark.sql import SparkSession\n",
    "from tools_datapipeline.extractor.scraper_world_population import ScrapperWorldPopulation\n",
    "warnings.filterwarnings(\"ignore\")"
   ]
  },
  {
   "cell_type": "code",
   "execution_count": 2,
   "id": "f07cc371-48e9-477d-8b36-47b50ff72f52",
   "metadata": {},
   "outputs": [],
   "source": [
    "spark = SparkSession.builder \\\n",
    "    .appName(\"Engine\") \\\n",
    "    .config(\"spark.jars.packages\", \"io.delta:delta-core_2.12:2.4.0\") \\\n",
    "    .config(\"spark.sql.extensions\", \"io.delta.sql.DeltaSparkSessionExtension\") \\\n",
    "    .config(\"spark.sql.catalog.spark_catalog\", \"org.apache.spark.sql.delta.catalog.DeltaCatalog\") \\\n",
    "    .getOrCreate()"
   ]
  },
  {
   "cell_type": "markdown",
   "id": "a19936d2-be9b-4aa4-b8ba-3ca6b15df627",
   "metadata": {},
   "source": [
    "# Extracción"
   ]
  },
  {
   "cell_type": "code",
   "execution_count": 3,
   "id": "6c10d22e-cf65-4a20-a029-518cbe1f14df",
   "metadata": {},
   "outputs": [],
   "source": [
    "def extract_process(process_type:str)->None:\n",
    "    \n",
    "    columns_name = [\"id_population\"\n",
    "     ,\"country\"\n",
    "     ,\"count_population\"\n",
    "     ,\"yearly_change\"\n",
    "     ,\"net_change\"\n",
    "     ,\"density\"\n",
    "     ,\"land_area\"\n",
    "     ,\"migrants\"\n",
    "     ,\"fert_rate\"\n",
    "     ,\"med_age\"\n",
    "     ,\"urban_pop\"\n",
    "     ,\"world_share\"\n",
    "    ]\n",
    "\n",
    "    mode_write = \"overwrite\"\n",
    "    if process_type == 'INCREMENTAL':\n",
    "        mode_write = \"append\"\n",
    "\n",
    "    scraper = ScrapperWorldPopulation(\"https://www.worldometers.info/world-population/population-by-country/\",spark)\n",
    "    df_spark = scraper.extract_data_from_source()\n",
    "    df_spark = df_spark.withColumn(\"ingestion_date\",F.current_date())\n",
    "    \n",
    "    for old_name,new_name in zip(df_spark.columns,columns_name):\n",
    "        df_spark = df_spark.withColumnRenamed(old_name,new_name)\n",
    "    \n",
    "    df_spark.write.partitionBy(\"ingestion_date\").format(\"delta\").mode(mode_write).save(\"bronze_layer/\")"
   ]
  },
  {
   "cell_type": "markdown",
   "id": "daf05b20-57ab-42fb-9eee-0c8f97dcc81d",
   "metadata": {},
   "source": [
    "# Transformación"
   ]
  },
  {
   "cell_type": "code",
   "execution_count": 4,
   "id": "bdaa794e-d576-4115-b498-168d0858f770",
   "metadata": {},
   "outputs": [],
   "source": [
    "def transform_process(process_type:str)->DataFrame:\n",
    "\n",
    "    columns_drop = [\"ingestion_date\"]\n",
    "    if process_type == 'INCREMENTAL':\n",
    "        \n",
    "        today_value = date.today()\n",
    "        df_spark = spark.read.format(\"delta\") \\\n",
    "               .option(\"partitionFilters\", f\"ingestion_date == '{today_value}'\") \\\n",
    "               .load(\"bronze_layer/\")\n",
    "    else:\n",
    "        \n",
    "        df_spark = spark.read.format(\"delta\").load(\"bronze_layer/\")\n",
    "    \n",
    "    df_spark = df_spark.withColumn(\"yearly_change\",F.regexp_replace(F.col(\"yearly_change\"),\" %\",\"\"))\n",
    "    df_spark = df_spark.withColumn(\"urban_pop\",F.regexp_replace(F.col(\"urban_pop\"),\" %\",\"\"))\n",
    "    df_spark = df_spark.withColumn(\"world_share\",F.regexp_replace(F.col(\"world_share\"),\" %\",\"\"))\n",
    "    df_spark = df_spark.withColumn(\"yearly_change\",F.col(\"yearly_change\").cast(T.FloatType()))\n",
    "    df_spark = df_spark.withColumn(\"urban_pop\",F.col(\"urban_pop\").cast(T.FloatType()))\n",
    "    df_spark = df_spark.withColumn(\"world_share\",F.col(\"world_share\").cast(T.FloatType()))\n",
    "    df_spark = df_spark.withColumn(\"country\",F.lower(F.col(\"country\")))\n",
    "    df_spark = df_spark.dropDuplicates([\"id_population\"])\n",
    "    df_spark = df_spark.orderBy(F.col(\"id_population\").asc())\n",
    "    df_spark = df_spark.drop(*columns_drop)\n",
    "\n",
    "    return df_spark"
   ]
  },
  {
   "cell_type": "markdown",
   "id": "2518c37a-5a0e-44de-af1d-4c1056b75b8a",
   "metadata": {},
   "source": [
    "# Carga"
   ]
  },
  {
   "cell_type": "code",
   "execution_count": 5,
   "id": "315caf8f-2b11-4125-b784-b51cda0c81bb",
   "metadata": {},
   "outputs": [],
   "source": [
    "def load_process(df_spark:DataFrame)->None:\n",
    "    \n",
    "    df_spark = df_spark.withColumn(\"processing_date\",F.current_date())\n",
    "    df_spark.write.partitionBy(\"processing_date\").format(\"delta\").mode(\"overwrite\").save(\"silver_layer/\")"
   ]
  },
  {
   "cell_type": "markdown",
   "id": "8ef78476-8474-4732-bb93-9cdcadbbba94",
   "metadata": {},
   "source": [
    "# Datapipeline"
   ]
  },
  {
   "cell_type": "code",
   "execution_count": 6,
   "id": "55924f87-57e3-4172-a1e6-476228906f87",
   "metadata": {},
   "outputs": [],
   "source": [
    "extract_process('INCREMENTAL')\n",
    "df_spark = transform_process(\"INCREMENTAL\")\n",
    "load_process(df_spark)"
   ]
  }
 ],
 "metadata": {
  "kernelspec": {
   "display_name": "Python 3 (ipykernel)",
   "language": "python",
   "name": "python3"
  },
  "language_info": {
   "codemirror_mode": {
    "name": "ipython",
    "version": 3
   },
   "file_extension": ".py",
   "mimetype": "text/x-python",
   "name": "python",
   "nbconvert_exporter": "python",
   "pygments_lexer": "ipython3",
   "version": "3.11.4"
  }
 },
 "nbformat": 4,
 "nbformat_minor": 5
}
